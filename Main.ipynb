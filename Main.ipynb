{
 "cells": [
  {
   "cell_type": "code",
   "execution_count": 36,
   "metadata": {},
   "outputs": [],
   "source": [
    "from tkinter import * # so we can use Tk() instead of Tkinter.Tk() ...\n",
    "from tkinter import ttk\n",
    "import tkinter.filedialog \n",
    "import tkinter.messagebox\n",
    "\n",
    "class App(Frame):\n",
    "    def __init__(self, master):     \n",
    "        self.master = master # store link to master window, use as frame to put all other widgets into\n",
    "        \n",
    "        # Part 1) Tabular Journal (default) vs. Learn Window\n",
    "        self.notebook = ttk.Notebook(self.master, width= 700, height = 600)\n",
    "\n",
    "        self.frame1 = Frame(self.notebook)\n",
    "        self.frame2 = Frame(self.notebook)\n",
    "\n",
    "        self.frame1.pack(padx = 10, pady = 10)\n",
    "        self.frame2.pack(padx = 10, pady = 10)\n",
    "\n",
    "        self.frame1_label = Label(self.frame1, text = \"To create a new journal entry, click the Create new journal entry button.\")\n",
    "        self.frame2_label = Label(self.frame2, text = \"To learn about a national park, select the appropriate national park from the dropdown menu.\")\n",
    "\n",
    "        self.frame1_label.pack(padx = 10, pady = 10)\n",
    "        self.frame2_label.pack(padx = 10, pady = 10)\n",
    "\n",
    "        self.frame1_button = Button(self.frame1, text = \"Create new journal entry\")\n",
    "\n",
    "        self.frame1_button.pack(padx = 10, pady = 10)\n",
    "\n",
    "        self.notebook.add(self.frame1, text = \"Journal\")\n",
    "        self.notebook.add(self.frame2, text = \"Learn\")\n",
    "\n",
    "        self.notebook.pack(padx = 10, pady = 10)"
   ]
  },
  {
   "cell_type": "code",
   "execution_count": 37,
   "metadata": {},
   "outputs": [
    {
     "name": "stdout",
     "output_type": "stream",
     "text": [
      "Done\n"
     ]
    }
   ],
   "source": [
    "master = Tk()  # create a Tk window called master\n",
    "master.title(\"National Park Journal for Outdoor Enthusiasts TkInter GUI - WIP\")\n",
    "myapp = App(master) # create App object within master (Tk) windowmaster.mainloop() # draw master window, react to events only\n",
    "master.mainloop() # draw master window, react to events \n",
    "print(\"Done\")"
   ]
  }
 ],
 "metadata": {
  "kernelspec": {
   "display_name": "Python 3",
   "language": "python",
   "name": "python3"
  },
  "language_info": {
   "codemirror_mode": {
    "name": "ipython",
    "version": 3
   },
   "file_extension": ".py",
   "mimetype": "text/x-python",
   "name": "python",
   "nbconvert_exporter": "python",
   "pygments_lexer": "ipython3",
   "version": "3.11.1"
  },
  "orig_nbformat": 4
 },
 "nbformat": 4,
 "nbformat_minor": 2
}
